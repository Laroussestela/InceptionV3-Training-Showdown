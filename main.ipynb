{
 "cells": [
  {
   "cell_type": "code",
   "execution_count": 1,
   "metadata": {
    "id": "qRAvoTTa-9cW"
   },
   "outputs": [],
   "source": [
    "import tensorflow as tf\n",
    "import numpy as np\n",
    "import numpy as np\n",
    "import matplotlib.pyplot as plt\n",
    "import cv2\n",
    "from keras.applications import InceptionV3"
   ]
  },
  {
   "cell_type": "code",
   "execution_count": null,
   "metadata": {
    "colab": {
     "base_uri": "https://localhost:8080/",
     "height": 451
    },
    "executionInfo": {
     "elapsed": 2511,
     "status": "ok",
     "timestamp": 1684568475863,
     "user": {
      "displayName": "Alejandro Estela",
      "userId": "06927152069312670492"
     },
     "user_tz": -120
    },
    "id": "M8qe2UuK0eR5",
    "outputId": "109d047c-aa19-402a-e8fc-4c9717126da1"
   },
   "outputs": [],
   "source": [
    "idx = np.random.randint(1, 12000)\n",
    "\n",
    "path = 'dataset/test/'\n",
    "img = cv2.imread(path + 'Bean/0001.jpg', cv2.COLOR_BGR2RGB)\n",
    "img = cv2.cvtColor(img, cv2.COLOR_BGR2RGB)\n",
    "plt.imshow(img)"
   ]
  },
  {
   "cell_type": "code",
   "execution_count": null,
   "metadata": {
    "colab": {
     "base_uri": "https://localhost:8080/"
    },
    "executionInfo": {
     "elapsed": 510,
     "status": "ok",
     "timestamp": 1684568486300,
     "user": {
      "displayName": "Alejandro Estela",
      "userId": "06927152069312670492"
     },
     "user_tz": -120
    },
    "id": "9Nk9yeDa0vGJ",
    "outputId": "e7861bf4-db57-4ead-97d1-e10445179f21"
   },
   "outputs": [],
   "source": [
    "train_datagen = tf.keras.preprocessing.image.ImageDataGenerator(rescale=1./255)\n",
    "valid_datagen = tf.keras.preprocessing.image.ImageDataGenerator(rescale=1./255)\n",
    "test_datagen = tf.keras.preprocessing.image.ImageDataGenerator(rescale=1./255)\n",
    "\n",
    "train_generator  = train_datagen.flow_from_directory(\n",
    "    'dataset/train/',\n",
    "    target_size=(224, 224),\n",
    "    # batch_size=256,\n",
    "    class_mode='categorical',\n",
    "    shuffle=False)\n",
    "\n",
    "test_generator  = test_datagen.flow_from_directory(\n",
    "    'dataset/test/',\n",
    "    target_size=(224, 224),\n",
    "    # batch_size=256,\n",
    "    class_mode='categorical',\n",
    "    shuffle=False)\n",
    "\n",
    "valid_generator  = valid_datagen.flow_from_directory(\n",
    "    'dataset/validation/',\n",
    "    target_size=(224, 224),\n",
    "    # batch_size=256,\n",
    "    class_mode='categorical',\n",
    "    shuffle=False)"
   ]
  },
  {
   "cell_type": "code",
   "execution_count": null,
   "metadata": {
    "colab": {
     "base_uri": "https://localhost:8080/"
    },
    "executionInfo": {
     "elapsed": 7007,
     "status": "ok",
     "timestamp": 1684569698685,
     "user": {
      "displayName": "Alejandro Estela",
      "userId": "06927152069312670492"
     },
     "user_tz": -120
    },
    "id": "78_CJNNxDYkK",
    "outputId": "36b3cdd8-0fa7-48c1-fcc7-b455f8f8bea7"
   },
   "outputs": [],
   "source": [
    "inc=InceptionV3(input_shape=(224,224,3),weights='imagenet',include_top=False)\n",
    "inc.summary()"
   ]
  },
  {
   "cell_type": "markdown",
   "metadata": {
    "id": "LBDz2VX2Cehj"
   },
   "source": [
    "# 1. TRANSFER LEARNING"
   ]
  },
  {
   "cell_type": "markdown",
   "metadata": {
    "id": "xpAWkmm3HYm2"
   },
   "source": [
    "## 1.1 Normal"
   ]
  },
  {
   "cell_type": "code",
   "execution_count": null,
   "metadata": {
    "id": "A227RKTK6Nqb"
   },
   "outputs": [],
   "source": [
    "for i in inc.layers:\n",
    "  i.trainable = False"
   ]
  },
  {
   "cell_type": "code",
   "execution_count": null,
   "metadata": {
    "colab": {
     "base_uri": "https://localhost:8080/"
    },
    "executionInfo": {
     "elapsed": 478,
     "status": "ok",
     "timestamp": 1684569875233,
     "user": {
      "displayName": "Alejandro Estela",
      "userId": "06927152069312670492"
     },
     "user_tz": -120
    },
    "id": "wvS-q5TCLw_s",
    "outputId": "28b0a6aa-701d-45b6-a143-a706942e3178"
   },
   "outputs": [],
   "source": [
    "from tensorflow.keras.models import Sequential\n",
    "from tensorflow.keras import layers\n",
    "\n",
    "model_transf_learn_normal = Sequential()\n",
    "model_transf_learn_normal.add(inc)\n",
    "model_transf_learn_normal.add(layers.Flatten())\n",
    "model_transf_learn_normal.add(layers.Dense(256, activation='relu'))\n",
    "model_transf_learn_normal.add(layers.Dense(15, activation='softmax'))\n",
    "\n",
    "model_transf_learn_normal.summary()"
   ]
  },
  {
   "cell_type": "code",
   "execution_count": null,
   "metadata": {
    "id": "31f7GyNt-3Xs"
   },
   "outputs": [],
   "source": [
    "from tensorflow.keras.optimizers import Adam\n",
    "\n",
    "lr = 1e-3\n",
    "opt = Adam(learning_rate=lr)\n",
    "\n",
    "model_transf_learn_normal.compile(optimizer=opt,\n",
    "                                  loss=tf.losses.CategoricalCrossentropy(),\n",
    "                                    metrics=[tf.keras.metrics.CategoricalAccuracy(name='accuracy'),\n",
    "                                              tf.keras.metrics.Precision(name='precision'),\n",
    "                                              tf.keras.metrics.Recall(name='recall')])"
   ]
  },
  {
   "cell_type": "code",
   "execution_count": 26,
   "metadata": {},
   "outputs": [],
   "source": [
    "from tensorflow.keras.callbacks import EarlyStopping, ModelCheckpoint\n",
    "\n",
    "earlystopping = EarlyStopping(\n",
    "                                monitor = 'val_loss', \n",
    "                              mode = 'min', \n",
    "                              patience = 5,\n",
    "                              restore_best_weights=True,\n",
    "                              verbose = 1)\n",
    "\n",
    "filepath = './model_transf_learn_normal.hdf5'\n",
    "\n",
    "checkpoint    = ModelCheckpoint(filepath, \n",
    "                                monitor = 'val_loss', \n",
    "                                mode='min', \n",
    "                                save_best_only=True, \n",
    "                                verbose = 1)\n",
    "\n",
    "\n",
    "callback_list = [earlystopping, checkpoint]\n"
   ]
  },
  {
   "cell_type": "code",
   "execution_count": null,
   "metadata": {
    "colab": {
     "base_uri": "https://localhost:8080/"
    },
    "executionInfo": {
     "elapsed": 314149,
     "status": "ok",
     "timestamp": 1684568882112,
     "user": {
      "displayName": "Alejandro Estela",
      "userId": "06927152069312670492"
     },
     "user_tz": -120
    },
    "id": "32SfVVuH7w4S",
    "outputId": "12847a86-11a8-4e0d-f4cd-9ec9de348a8f"
   },
   "outputs": [],
   "source": [
    "epochs = 500\n",
    "\n",
    "print(\"[INFO]: Entrenando la red...\")\n",
    "model_tr_le_normal = model_transf_learn_normal.fit(\n",
    "        train_generator,\n",
    "        validation_data=valid_generator,\n",
    "        epochs=epochs,\n",
    "        callbacks=callback_list)"
   ]
  },
  {
   "cell_type": "markdown",
   "metadata": {
    "id": "UWOxAQLjHg3b"
   },
   "source": [
    "## 1.2 weight regularization (Agregar una penalización en la funcion de perdida. OBJ: Limitar los valores grandes de los pesos del modelo)"
   ]
  },
  {
   "cell_type": "code",
   "execution_count": 32,
   "metadata": {
    "id": "OQzOpR2EHyHj"
   },
   "outputs": [],
   "source": [
    "from tensorflow.keras import regularizers\n",
    "\n",
    "model_transf_learn_weight_regu = Sequential()\n",
    "model_transf_learn_weight_regu.add(inc)\n",
    "model_transf_learn_weight_regu.add(layers.Flatten())\n",
    "model_transf_learn_weight_regu.add(layers.Dense(256, activation='relu', kernel_regularizer=regularizers.l2(0.01)))\n",
    "model_transf_learn_weight_regu.add(layers.Dense(15, activation='softmax'))"
   ]
  },
  {
   "cell_type": "code",
   "execution_count": null,
   "metadata": {
    "id": "uz1gBK9mJ7ec"
   },
   "outputs": [],
   "source": [
    "model_transf_learn_weight_regu.compile(optimizer=Adam(learning_rate=lr),\n",
    "                                       loss=tf.losses.CategoricalCrossentropy(),\n",
    "                                        metrics=[tf.keras.metrics.CategoricalAccuracy(name='accuracy'),\n",
    "                                                tf.keras.metrics.Precision(name='precision'),\n",
    "                                                tf.keras.metrics.Recall(name='recall')])"
   ]
  },
  {
   "cell_type": "code",
   "execution_count": 34,
   "metadata": {},
   "outputs": [],
   "source": [
    "filepath = './model_transf_learn_weight_regu.hdf5'\n",
    "\n",
    "checkpoint    = ModelCheckpoint(filepath, \n",
    "                                monitor = 'val_loss', \n",
    "                                mode='min', \n",
    "                                save_best_only=True, \n",
    "                                verbose = 1)\n",
    "\n",
    "\n",
    "callback_list = [earlystopping, checkpoint]"
   ]
  },
  {
   "cell_type": "code",
   "execution_count": null,
   "metadata": {
    "colab": {
     "base_uri": "https://localhost:8080/"
    },
    "executionInfo": {
     "elapsed": 287324,
     "status": "ok",
     "timestamp": 1684331365877,
     "user": {
      "displayName": "Alejandro Estela",
      "userId": "06927152069312670492"
     },
     "user_tz": -120
    },
    "id": "aLYhSBceKZIn",
    "outputId": "c6db2a72-9121-41f8-e40b-2da815685c26"
   },
   "outputs": [],
   "source": [
    "print(\"[INFO]: Entrenando la red...\")\n",
    "model_tr_le_we = model_transf_learn_weight_regu.fit(\n",
    "                      train_generator,\n",
    "                      validation_data=valid_generator,\n",
    "                      callbacks = callback_list,\n",
    "                      epochs=epochs)"
   ]
  },
  {
   "cell_type": "markdown",
   "metadata": {
    "id": "ngDSvLUTK-0C"
   },
   "source": [
    "## 1.3 drop out"
   ]
  },
  {
   "cell_type": "code",
   "execution_count": null,
   "metadata": {
    "id": "J1aCEb7YLHsu"
   },
   "outputs": [],
   "source": [
    "from tensorflow.keras.layers import Dropout\n",
    "\n",
    "model_transf_learn_drop_out = Sequential()\n",
    "model_transf_learn_drop_out.add(inc)\n",
    "model_transf_learn_drop_out.add(layers.Flatten())\n",
    "model_transf_learn_drop_out.add(layers.Dense(256, activation='relu'))\n",
    "model_transf_learn_drop_out.add(layers.Dropout(0.5))\n",
    "model_transf_learn_drop_out.add(layers.Dense(15, activation='softmax'))"
   ]
  },
  {
   "cell_type": "code",
   "execution_count": null,
   "metadata": {
    "id": "brUzdeTeMOFv"
   },
   "outputs": [],
   "source": [
    "from tensorflow.keras.optimizers import Adam\n",
    "\n",
    "model_transf_learn_drop_out.compile(optimizer=Adam(learning_rate=lr),\n",
    "                                    loss=tf.losses.CategoricalCrossentropy(),\n",
    "                                    metrics=[tf.keras.metrics.CategoricalAccuracy(name='accuracy'),\n",
    "                                              tf.keras.metrics.Precision(name='precision'),\n",
    "                                              tf.keras.metrics.Recall(name='recall')])"
   ]
  },
  {
   "cell_type": "code",
   "execution_count": 39,
   "metadata": {},
   "outputs": [],
   "source": [
    "filepath = './model_transf_learn_drop_out.hdf5'\n",
    "\n",
    "checkpoint    = ModelCheckpoint(filepath, \n",
    "                                monitor = 'val_loss', \n",
    "                                mode='min', \n",
    "                                save_best_only=True, \n",
    "                                verbose = 1)\n",
    "\n",
    "\n",
    "callback_list = [earlystopping, checkpoint]"
   ]
  },
  {
   "cell_type": "code",
   "execution_count": null,
   "metadata": {
    "colab": {
     "base_uri": "https://localhost:8080/"
    },
    "executionInfo": {
     "elapsed": 282105,
     "status": "ok",
     "timestamp": 1684332115049,
     "user": {
      "displayName": "Alejandro Estela",
      "userId": "06927152069312670492"
     },
     "user_tz": -120
    },
    "id": "b7PeHgIgMPcu",
    "outputId": "2639e154-2c85-4e72-e327-da0631c38030"
   },
   "outputs": [],
   "source": [
    "print(\"[INFO]: Entrenando la red...\")\n",
    "model_tr_le_drop = model_transf_learn_drop_out.fit(\n",
    "                      train_generator,\n",
    "                      validation_data=valid_generator,\n",
    "                      callbacks = callback_list,\n",
    "                      epochs=epochs)"
   ]
  },
  {
   "cell_type": "markdown",
   "metadata": {
    "id": "f6al-PEfM8X7"
   },
   "source": [
    "## 1.4 batch normalization"
   ]
  },
  {
   "cell_type": "code",
   "execution_count": 41,
   "metadata": {
    "id": "8AhaG0p5M_mA"
   },
   "outputs": [],
   "source": [
    "from tensorflow.keras.layers import BatchNormalization\n",
    "\n",
    "model_transf_learn_batch_norm = Sequential()\n",
    "model_transf_learn_batch_norm.add(inc)\n",
    "model_transf_learn_batch_norm.add(layers.Flatten())\n",
    "model_transf_learn_batch_norm.add(layers.Dense(256, activation='relu'))\n",
    "model_transf_learn_batch_norm.add(BatchNormalization())\n",
    "model_transf_learn_batch_norm.add(layers.Dense(15, activation='softmax'))"
   ]
  },
  {
   "cell_type": "code",
   "execution_count": null,
   "metadata": {
    "id": "liI3i0ERNGUM"
   },
   "outputs": [],
   "source": [
    "model_transf_learn_batch_norm.compile(optimizer=Adam(learning_rate=lr),\n",
    "                                      loss=tf.losses.CategoricalCrossentropy(),\n",
    "                                    metrics=[tf.keras.metrics.CategoricalAccuracy(name='accuracy'),\n",
    "                                              tf.keras.metrics.Precision(name='precision'),\n",
    "                                              tf.keras.metrics.Recall(name='recall')])"
   ]
  },
  {
   "cell_type": "code",
   "execution_count": 43,
   "metadata": {},
   "outputs": [],
   "source": [
    "filepath = './model_transf_learn_batch_norm.hdf5'\n",
    "\n",
    "checkpoint    = ModelCheckpoint(filepath, \n",
    "                                monitor = 'val_loss', \n",
    "                                mode='min', \n",
    "                                save_best_only=True, \n",
    "                                verbose = 1)\n",
    "\n",
    "\n",
    "callback_list = [earlystopping, checkpoint]"
   ]
  },
  {
   "cell_type": "code",
   "execution_count": null,
   "metadata": {
    "colab": {
     "base_uri": "https://localhost:8080/"
    },
    "executionInfo": {
     "elapsed": 283589,
     "status": "ok",
     "timestamp": 1684332621808,
     "user": {
      "displayName": "Alejandro Estela",
      "userId": "06927152069312670492"
     },
     "user_tz": -120
    },
    "id": "RjDd83baNITz",
    "outputId": "c2c16a9b-0a19-4e91-dd15-e501c389b575"
   },
   "outputs": [],
   "source": [
    "print(\"[INFO]: Entrenando la red...\")\n",
    "model_tr_le_batch_normal = model_transf_learn_batch_norm.fit(\n",
    "                      train_generator,\n",
    "                      validation_data=valid_generator,\n",
    "                      callbacks = callback_list,\n",
    "                      epochs=epochs)"
   ]
  },
  {
   "cell_type": "markdown",
   "metadata": {
    "id": "gYCF71REPm1i"
   },
   "source": [
    "## 1.5 Data augmentation"
   ]
  },
  {
   "cell_type": "code",
   "execution_count": null,
   "metadata": {
    "colab": {
     "base_uri": "https://localhost:8080/"
    },
    "executionInfo": {
     "elapsed": 2611,
     "status": "ok",
     "timestamp": 1684332764218,
     "user": {
      "displayName": "Alejandro Estela",
      "userId": "06927152069312670492"
     },
     "user_tz": -120
    },
    "id": "Uq5Q8JrdPpJm",
    "outputId": "881e53c3-a628-4ee2-c413-0402c0f76927"
   },
   "outputs": [],
   "source": [
    "train_datagen_data_aug = tf.keras.preprocessing.image.ImageDataGenerator(\n",
    "        rescale=1./255,\n",
    "        rotation_range=15, # grados de rotacion aleatoria\n",
    "        width_shift_range=0.2, # fraccion del total (1) para mover la imagen\n",
    "        height_shift_range=0.2, # fraccion del total (1) para mover la imagen\n",
    "        horizontal_flip=True, # girar las imagenes horizontalmente (eje vertical)\n",
    "        zoom_range=0.2 )# rango de zoom\n",
    "valid_datagen_data_aug = tf.keras.preprocessing.image.ImageDataGenerator(\n",
    "        rescale=1./255,\n",
    "        rotation_range=15,\n",
    "        width_shift_range=0.2,\n",
    "        height_shift_range=0.2,\n",
    "        horizontal_flip=True,\n",
    "        zoom_range=0.2)\n",
    "test_datagen_data_aug = tf.keras.preprocessing.image.ImageDataGenerator(rescale=1./255)\n",
    "# Cargar las imágenes de entrenamiento utilizando flow_from_directory\n",
    "train_generator_data_aug  = train_datagen_data_aug.flow_from_directory(\n",
    "    'dataset/train/',\n",
    "    target_size=(224, 224),\n",
    "    batch_size=32,\n",
    "    class_mode='categorical')\n",
    "\n",
    "test_generator_data_aug  = test_datagen_data_aug.flow_from_directory(\n",
    "    'dataset/test/',\n",
    "    target_size=(224, 224),\n",
    "    batch_size=32,\n",
    "    class_mode='categorical')\n",
    "\n",
    "valid_generator_data_aug  = valid_datagen_data_aug.flow_from_directory(\n",
    "    'dataset/validation/',\n",
    "    target_size=(224, 224),\n",
    "    batch_size=32,\n",
    "    class_mode='categorical')"
   ]
  },
  {
   "cell_type": "code",
   "execution_count": 46,
   "metadata": {
    "id": "CW3gxJamQdFk"
   },
   "outputs": [],
   "source": [
    "model_transf_learn_data_augm = Sequential()\n",
    "model_transf_learn_data_augm.add(inc)\n",
    "model_transf_learn_data_augm.add(layers.Flatten())\n",
    "model_transf_learn_data_augm.add(layers.Dense(256, activation='relu'))\n",
    "model_transf_learn_data_augm.add(layers.Dense(15, activation='softmax'))"
   ]
  },
  {
   "cell_type": "code",
   "execution_count": null,
   "metadata": {
    "id": "xdY7ZCusQrdM"
   },
   "outputs": [],
   "source": [
    "model_transf_learn_data_augm.compile(optimizer=Adam(learning_rate=lr),\n",
    "                                     loss=tf.losses.CategoricalCrossentropy(),\n",
    "                                    metrics=[tf.keras.metrics.CategoricalAccuracy(name='accuracy'),\n",
    "                                              tf.keras.metrics.Precision(name='precision'),\n",
    "                                              tf.keras.metrics.Recall(name='recall')])"
   ]
  },
  {
   "cell_type": "code",
   "execution_count": 48,
   "metadata": {},
   "outputs": [],
   "source": [
    "filepath = './model_transf_learn_data_augm.hdf5'\n",
    "\n",
    "checkpoint    = ModelCheckpoint(filepath, \n",
    "                                monitor = 'val_loss', \n",
    "                                mode='min', \n",
    "                                save_best_only=True, \n",
    "                                verbose = 1)\n",
    "\n",
    "\n",
    "callback_list = [earlystopping, checkpoint]"
   ]
  },
  {
   "cell_type": "code",
   "execution_count": null,
   "metadata": {
    "colab": {
     "base_uri": "https://localhost:8080/"
    },
    "executionInfo": {
     "elapsed": 1209558,
     "status": "ok",
     "timestamp": 1684334300973,
     "user": {
      "displayName": "Alejandro Estela",
      "userId": "06927152069312670492"
     },
     "user_tz": -120
    },
    "id": "9mD7SzB9QswN",
    "outputId": "0739d81f-4e6b-44b7-ec51-17a2c5507862"
   },
   "outputs": [],
   "source": [
    "print(\"[INFO]: Entrenando la red...\")\n",
    "model_tr_le_data_augm = model_transf_learn_data_augm.fit(\n",
    "        train_generator_data_aug,\n",
    "        validation_data=valid_generator_data_aug,\n",
    "        callbacks = callback_list,\n",
    "        epochs=epochs)"
   ]
  },
  {
   "cell_type": "markdown",
   "metadata": {
    "id": "7euQ_DctAllb"
   },
   "source": [
    "# 2. FINE TUNING"
   ]
  },
  {
   "cell_type": "markdown",
   "metadata": {
    "id": "DixJBoELSgP_"
   },
   "source": [
    "## 2.1 Normal"
   ]
  },
  {
   "cell_type": "code",
   "execution_count": null,
   "metadata": {
    "id": "X9djel3UBWLh"
   },
   "outputs": [],
   "source": [
    "for i in inc.layers:\n",
    "  i.trainable = True\n",
    "\n",
    "for layer in inc.layers:\n",
    "  if layer.name == 'conv2d_80':\n",
    "    break\n",
    "  layer.trainable = False\n",
    "  print('Capa ' + layer.name + ' congelada...')"
   ]
  },
  {
   "cell_type": "code",
   "execution_count": null,
   "metadata": {
    "colab": {
     "base_uri": "https://localhost:8080/"
    },
    "executionInfo": {
     "elapsed": 71,
     "status": "ok",
     "timestamp": 1684334486372,
     "user": {
      "displayName": "Alejandro Estela",
      "userId": "06927152069312670492"
     },
     "user_tz": -120
    },
    "id": "DB798-a7Bn8D",
    "outputId": "af58a085-db0e-4cb1-d84d-8d49f8304b7c"
   },
   "outputs": [],
   "source": [
    "model_fine_tuning_normal = Sequential()\n",
    "model_fine_tuning_normal.add(inc)\n",
    "model_fine_tuning_normal.add(layers.Flatten())\n",
    "model_fine_tuning_normal.add(layers.Dense(256, activation='relu'))\n",
    "model_fine_tuning_normal.add(layers.Dense(15, activation='softmax'))\n",
    "\n",
    "model_fine_tuning_normal.summary()"
   ]
  },
  {
   "cell_type": "code",
   "execution_count": null,
   "metadata": {
    "id": "7YHvNmR_D0R1"
   },
   "outputs": [],
   "source": [
    "model_fine_tuning_normal.compile(optimizer=Adam(learning_rate=lr),\n",
    "                                 loss=tf.losses.CategoricalCrossentropy(),\n",
    "                                    metrics=[tf.keras.metrics.CategoricalAccuracy(name='accuracy'),\n",
    "                                              tf.keras.metrics.Precision(name='precision'),\n",
    "                                              tf.keras.metrics.Recall(name='recall')])"
   ]
  },
  {
   "cell_type": "code",
   "execution_count": 53,
   "metadata": {},
   "outputs": [],
   "source": [
    "filepath = './model_fine_tuning_normal.hdf5'\n",
    "\n",
    "checkpoint    = ModelCheckpoint(filepath, \n",
    "                                monitor = 'val_loss', \n",
    "                                mode='min', \n",
    "                                save_best_only=True, \n",
    "                                verbose = 1)\n",
    "\n",
    "\n",
    "callback_list = [earlystopping, checkpoint]"
   ]
  },
  {
   "cell_type": "code",
   "execution_count": null,
   "metadata": {
    "colab": {
     "base_uri": "https://localhost:8080/"
    },
    "executionInfo": {
     "elapsed": 389404,
     "status": "ok",
     "timestamp": 1684334895481,
     "user": {
      "displayName": "Alejandro Estela",
      "userId": "06927152069312670492"
     },
     "user_tz": -120
    },
    "id": "Nzlr60G1D9tb",
    "outputId": "c0ad6ca0-3b69-49c7-f508-9604777e8241"
   },
   "outputs": [],
   "source": [
    "print(\"[INFO]: Entrenando la red...\")\n",
    "model_fi_tun_normal = model_fine_tuning_normal.fit(\n",
    "        train_generator,\n",
    "        validation_data=valid_generator,\n",
    "        callbacks = callback_list,\n",
    "        epochs=epochs)"
   ]
  },
  {
   "cell_type": "markdown",
   "metadata": {
    "id": "I0VWrkWwTaPF"
   },
   "source": [
    "## 2.2 weight regularization"
   ]
  },
  {
   "cell_type": "code",
   "execution_count": 55,
   "metadata": {
    "id": "CERIZFggT5q0"
   },
   "outputs": [],
   "source": [
    "model_fine_tuning_weight_regu = Sequential()\n",
    "model_fine_tuning_weight_regu.add(inc)\n",
    "model_fine_tuning_weight_regu.add(layers.Flatten())\n",
    "model_fine_tuning_weight_regu.add(layers.Dense(256, activation='relu', kernel_regularizer=regularizers.l2(0.01)))\n",
    "model_fine_tuning_weight_regu.add(layers.Dense(15, activation='softmax'))"
   ]
  },
  {
   "cell_type": "code",
   "execution_count": null,
   "metadata": {
    "id": "eQ8mSOdfUJe9"
   },
   "outputs": [],
   "source": [
    "model_fine_tuning_weight_regu.compile(optimizer=Adam(learning_rate=lr),\n",
    "                                      loss=tf.losses.CategoricalCrossentropy(),\n",
    "                                    metrics=[tf.keras.metrics.CategoricalAccuracy(name='accuracy'),\n",
    "                                              tf.keras.metrics.Precision(name='precision'),\n",
    "                                              tf.keras.metrics.Recall(name='recall')])"
   ]
  },
  {
   "cell_type": "code",
   "execution_count": 57,
   "metadata": {},
   "outputs": [],
   "source": [
    "filepath = './model_fine_tuning_weight_regu.hdf5'\n",
    "\n",
    "checkpoint    = ModelCheckpoint(filepath, \n",
    "                                monitor = 'val_loss', \n",
    "                                mode='min', \n",
    "                                save_best_only=True, \n",
    "                                verbose = 1)\n",
    "\n",
    "\n",
    "callback_list = [earlystopping, checkpoint]"
   ]
  },
  {
   "cell_type": "code",
   "execution_count": null,
   "metadata": {
    "colab": {
     "base_uri": "https://localhost:8080/"
    },
    "executionInfo": {
     "elapsed": 333020,
     "status": "ok",
     "timestamp": 1684336132894,
     "user": {
      "displayName": "Alejandro Estela",
      "userId": "06927152069312670492"
     },
     "user_tz": -120
    },
    "id": "brIXbpU1ULfe",
    "outputId": "e76d8178-41c6-4cad-f888-159334ab8894"
   },
   "outputs": [],
   "source": [
    "print(\"[INFO]: Entrenando la red...\")\n",
    "model_fi_tu_we = model_fine_tuning_weight_regu.fit(\n",
    "                      train_generator,\n",
    "                      validation_data=valid_generator,\n",
    "                      callbacks = callback_list,\n",
    "                      epochs=epochs)"
   ]
  },
  {
   "cell_type": "markdown",
   "metadata": {
    "id": "2-0Ew1AkUpWe"
   },
   "source": [
    "## 2.3 drop out"
   ]
  },
  {
   "cell_type": "code",
   "execution_count": null,
   "metadata": {
    "id": "HQDMQnF0UrNO"
   },
   "outputs": [],
   "source": [
    "model_fine_tuning_drop_out = Sequential()\n",
    "model_fine_tuning_drop_out.add(inc)\n",
    "model_fine_tuning_drop_out.add(layers.Flatten())\n",
    "model_fine_tuning_drop_out.add(layers.Dense(256, activation='relu'))\n",
    "model_fine_tuning_drop_out.add(layers.Dropout(0.75))\n",
    "model_fine_tuning_drop_out.add(layers.Dense(15, activation='softmax'))"
   ]
  },
  {
   "cell_type": "code",
   "execution_count": null,
   "metadata": {
    "id": "dryq0PgqUs63"
   },
   "outputs": [],
   "source": [
    "model_fine_tuning_drop_out.compile(optimizer=Adam(learning_rate=lr),\n",
    "                                   loss=tf.losses.CategoricalCrossentropy(),\n",
    "                                    metrics=[tf.keras.metrics.CategoricalAccuracy(name='accuracy'),\n",
    "                                              tf.keras.metrics.Precision(name='precision'),\n",
    "                                              tf.keras.metrics.Recall(name='recall')])"
   ]
  },
  {
   "cell_type": "code",
   "execution_count": 61,
   "metadata": {},
   "outputs": [],
   "source": [
    "filepath = './model_fine_tuning_drop_out.hdf5'\n",
    "\n",
    "checkpoint    = ModelCheckpoint(filepath, \n",
    "                                monitor = 'val_loss', \n",
    "                                mode='min', \n",
    "                                save_best_only=True, \n",
    "                                verbose = 1)\n",
    "\n",
    "\n",
    "callback_list = [earlystopping, checkpoint]"
   ]
  },
  {
   "cell_type": "code",
   "execution_count": null,
   "metadata": {
    "colab": {
     "base_uri": "https://localhost:8080/"
    },
    "executionInfo": {
     "elapsed": 289874,
     "status": "ok",
     "timestamp": 1684336613297,
     "user": {
      "displayName": "Alejandro Estela",
      "userId": "06927152069312670492"
     },
     "user_tz": -120
    },
    "id": "fX4KpEnDUuDO",
    "outputId": "1e442a51-ae57-4e79-c6ff-4ccf57308518"
   },
   "outputs": [],
   "source": [
    "print(\"[INFO]: Entrenando la red...\")\n",
    "model_fi_tu_drop = model_fine_tuning_drop_out.fit(\n",
    "                      train_generator,\n",
    "                      validation_data=valid_generator,\n",
    "                      callbacks = callback_list,\n",
    "                      epochs=epochs)"
   ]
  },
  {
   "cell_type": "markdown",
   "metadata": {
    "id": "lZR1sNbTVKhP"
   },
   "source": [
    "## 2.4 batch normalization"
   ]
  },
  {
   "cell_type": "code",
   "execution_count": 63,
   "metadata": {
    "id": "2boA6yHjVMl-"
   },
   "outputs": [],
   "source": [
    "model_fine_tuning_batch_norm = Sequential()\n",
    "model_fine_tuning_batch_norm.add(inc)\n",
    "model_fine_tuning_batch_norm.add(layers.Flatten())\n",
    "model_fine_tuning_batch_norm.add(layers.Dense(256, activation='relu'))\n",
    "model_fine_tuning_batch_norm.add(BatchNormalization())\n",
    "model_fine_tuning_batch_norm.add(layers.Dense(15, activation='softmax'))"
   ]
  },
  {
   "cell_type": "code",
   "execution_count": null,
   "metadata": {
    "id": "W-AmulByVN_-"
   },
   "outputs": [],
   "source": [
    "model_fine_tuning_batch_norm.compile(optimizer=Adam(learning_rate=lr),\n",
    "                                     loss=tf.losses.CategoricalCrossentropy(),\n",
    "                                    metrics=[tf.keras.metrics.CategoricalAccuracy(name='accuracy'),\n",
    "                                              tf.keras.metrics.Precision(name='precision'),\n",
    "                                              tf.keras.metrics.Recall(name='recall')])"
   ]
  },
  {
   "cell_type": "code",
   "execution_count": 65,
   "metadata": {},
   "outputs": [],
   "source": [
    "filepath = './model_fine_tuning_batch_norm.hdf5'\n",
    "\n",
    "checkpoint    = ModelCheckpoint(filepath, \n",
    "                                monitor = 'val_loss', \n",
    "                                mode='min', \n",
    "                                save_best_only=True, \n",
    "                                verbose = 1)\n",
    "\n",
    "\n",
    "callback_list = [earlystopping, checkpoint]"
   ]
  },
  {
   "cell_type": "code",
   "execution_count": null,
   "metadata": {
    "colab": {
     "base_uri": "https://localhost:8080/"
    },
    "executionInfo": {
     "elapsed": 74527,
     "status": "ok",
     "timestamp": 1684337249835,
     "user": {
      "displayName": "Alejandro Estela",
      "userId": "06927152069312670492"
     },
     "user_tz": -120
    },
    "id": "MY8MXmwfVPGl",
    "outputId": "4e6784a8-97d6-45da-92bf-68b4f045f4c4"
   },
   "outputs": [],
   "source": [
    "print(\"[INFO]: Entrenando la red...\")\n",
    "model_fi_tu_batch_normal = model_fine_tuning_batch_norm.fit(\n",
    "                      train_generator,\n",
    "                      validation_data=valid_generator,\n",
    "                      callbacks = callback_list,\n",
    "                      epochs=epochs)"
   ]
  },
  {
   "cell_type": "markdown",
   "metadata": {
    "id": "c27kCX-KVwI_"
   },
   "source": [
    "## 2.5 Data augmentation"
   ]
  },
  {
   "cell_type": "code",
   "execution_count": 67,
   "metadata": {
    "id": "WDskbZJxV24e"
   },
   "outputs": [],
   "source": [
    "model_fine_tuning_data_augm = Sequential()\n",
    "model_fine_tuning_data_augm.add(inc)\n",
    "model_fine_tuning_data_augm.add(layers.Flatten())\n",
    "model_fine_tuning_data_augm.add(layers.Dense(256, activation='relu'))\n",
    "model_fine_tuning_data_augm.add(layers.Dense(15, activation='softmax'))"
   ]
  },
  {
   "cell_type": "code",
   "execution_count": null,
   "metadata": {
    "id": "HZ-mRuqAV4L_"
   },
   "outputs": [],
   "source": [
    "model_fine_tuning_data_augm.compile(optimizer=Adam(learning_rate=lr),\n",
    "                                    loss=tf.losses.CategoricalCrossentropy(),\n",
    "                                    metrics=[tf.keras.metrics.CategoricalAccuracy(name='accuracy'),\n",
    "                                              tf.keras.metrics.Precision(name='precision'),\n",
    "                                              tf.keras.metrics.Recall(name='recall')])"
   ]
  },
  {
   "cell_type": "code",
   "execution_count": 69,
   "metadata": {},
   "outputs": [],
   "source": [
    "filepath = './model_fine_tuning_data_augm.hdf5'\n",
    "\n",
    "checkpoint    = ModelCheckpoint(filepath, \n",
    "                                monitor = 'val_loss', \n",
    "                                mode='min', \n",
    "                                save_best_only=True, \n",
    "                                verbose = 1)\n",
    "\n",
    "\n",
    "callback_list = [earlystopping, checkpoint]"
   ]
  },
  {
   "cell_type": "code",
   "execution_count": null,
   "metadata": {
    "colab": {
     "base_uri": "https://localhost:8080/"
    },
    "executionInfo": {
     "elapsed": 1124993,
     "status": "ok",
     "timestamp": 1684339029682,
     "user": {
      "displayName": "Alejandro Estela",
      "userId": "06927152069312670492"
     },
     "user_tz": -120
    },
    "id": "ddQtYgXCV5TP",
    "outputId": "b429dd14-7e45-46da-edf2-8496eb941f26"
   },
   "outputs": [],
   "source": [
    "print(\"[INFO]: Entrenando la red...\")\n",
    "model_fi_tu_data_augm = model_fine_tuning_data_augm.fit(\n",
    "        train_generator_data_aug,\n",
    "        validation_data=valid_generator_data_aug,\n",
    "        callbacks = callback_list,\n",
    "        epochs=epochs)"
   ]
  },
  {
   "cell_type": "code",
   "execution_count": null,
   "metadata": {},
   "outputs": [],
   "source": [
    "from sklearn.metrics import classification_report, accuracy_score, precision_score, recall_score, f1_score\n",
    "import pandas as pd\n",
    "import numpy as np\n",
    "\n",
    "models_info = [\n",
    "    (\"model_transf_learn_normal\",        model_tr_le_normal),\n",
    "    (\"model_transf_learn_weight_regu\",   model_tr_le_we),\n",
    "    (\"model_transf_learn_drop_out\",      model_tr_le_drop),\n",
    "    (\"model_transf_learn_batch_norm\",    model_tr_le_batch_normal),\n",
    "    (\"model_transf_learn_data_augm\",     model_tr_le_data_augm),\n",
    "    (\"model_fine_tuning_normal\",         model_fi_tun_normal),\n",
    "    (\"model_fine_tuning_weight_regu\",    model_fi_tu_we),\n",
    "    (\"model_fine_tuning_drop_out\",       model_fi_tu_drop),\n",
    "    (\"model_fine_tuning_batch_norm\",     model_fi_tu_batch_normal),\n",
    "    (\"model_fine_tuning_data_augm\",      model_fi_tu_data_augm),\n",
    "]\n",
    "\n",
    "def evaluate_models(models_info, test_generator):\n",
    "    results = []\n",
    "\n",
    "    y_true = test_generator.classes\n",
    "    class_names = list(test_generator.class_indices.keys())\n",
    "\n",
    "    for name, history in models_info:\n",
    "        model = history.model\n",
    "        epochs = len(history.epoch)\n",
    "\n",
    "        y_pred_probs = model.predict(test_generator, verbose=0)\n",
    "        y_pred = np.argmax(y_pred_probs, axis=1)\n",
    "\n",
    "        acc = accuracy_score(y_true, y_pred)\n",
    "        prec = precision_score(y_true, y_pred, average='macro', zero_division=0)\n",
    "        rec = recall_score(y_true, y_pred, average='macro', zero_division=0)\n",
    "        f1 = f1_score(y_true, y_pred, average='macro', zero_division=0)\n",
    "\n",
    "        results.append({\n",
    "            \"Modelo\": name,\n",
    "            \"Tipo\": \"Transfer\" if \"transf\" in name else \"Fine-tuning\",\n",
    "            \"Técnica\": name.split(\"_\")[-1],\n",
    "            \"Épocas\": epochs,\n",
    "            \"Accuracy\": acc,\n",
    "            \"Precision\": prec,\n",
    "            \"Recall\": rec,\n",
    "            \"F1-score\": f1\n",
    "        })\n",
    "\n",
    "    return pd.DataFrame(results)\n",
    "\n",
    "\n",
    "tabla_resultados = evaluate_models(models_info, test_generator)\n",
    "print(tabla_resultados.sort_values(by='F1-score', ascending=False).to_string(index=False))"
   ]
  },
  {
   "cell_type": "code",
   "execution_count": null,
   "metadata": {},
   "outputs": [],
   "source": [
    "import pickle\n",
    "\n",
    "\n",
    "\n",
    "with open(\"E:/00. Kaggle/18. Clasification Inception/Models/historial_model_transf_learn_normal.pkl\", 'wb') as file:\n",
    "    pickle.dump(model_tr_le_normal.history, file)\n",
    "\n",
    "path = \"E:/00. Kaggle/18. Clasification Inception/Models\"\n",
    "model_transf_learn_normal.save(f\"{path}/model_transf_learn_normal.h5\")\n",
    "\n",
    "\n",
    "with open(\"E:/00. Kaggle/18. Clasification Inception/Models/historial_model_transf_learn_weight_regu.pkl\", 'wb') as file:\n",
    "    pickle.dump(model_tr_le_we.history, file)\n",
    "\n",
    "model_transf_learn_weight_regu.save(f\"{path}/model_transf_learn_weight_regu.h5\")\n",
    "\n",
    "\n",
    "with open(\"E:/00. Kaggle/18. Clasification Inception/Models/historial_model_transf_learn_drop_out.pkl\", 'wb') as file:\n",
    "    pickle.dump(model_tr_le_drop.history, file)\n",
    "\n",
    "model_transf_learn_drop_out.save(f\"{path}/model_transf_learn_drop_out.h5\")\n",
    "\n",
    "\n",
    "with open(\"E:/00. Kaggle/18. Clasification Inception/Models/historial_model_transf_learn_batch_norm.pkl\", 'wb') as file:\n",
    "    pickle.dump(model_tr_le_batch_normal.history, file)\n",
    "\n",
    "model_transf_learn_batch_norm.save(f\"{path}/model_transf_learn_batch_norm.h5\")\n",
    "\n",
    "\n",
    "with open(\"E:/00. Kaggle/18. Clasification Inception/Models/historial_model_transf_learn_data_augm.pkl\", 'wb') as file:\n",
    "    pickle.dump(model_tr_le_data_augm.history, file)\n",
    "\n",
    "model_transf_learn_data_augm.save(f\"{path}/model_transf_learn_data_augm.h5\")\n",
    "\n",
    "\n",
    "with open(\"E:/00. Kaggle/18. Clasification Inception/Models/historial_model_fine_tuning_normal.pkl\", 'wb') as file:\n",
    "    pickle.dump(model_fi_tun_normal.history, file)\n",
    "\n",
    "model_fine_tuning_normal.save(f\"{path}/model_fine_tuning_normal.h5\")\n",
    "\n",
    "\n",
    "with open(\"E:/00. Kaggle/18. Clasification Inception/Models/historial_model_fine_tuning_weight_regu.pkl\", 'wb') as file:\n",
    "    pickle.dump(model_fi_tu_we.history, file)\n",
    "\n",
    "model_fine_tuning_weight_regu.save(f\"{path}/model_fine_tuning_weight_regu.h5\")\n",
    "\n",
    "\n",
    "with open(\"E:/00. Kaggle/18. Clasification Inception/Models/historial_model_fine_tuning_drop_out.pkl\", 'wb') as file:\n",
    "    pickle.dump(model_fi_tu_drop.history, file)\n",
    "\n",
    "model_fine_tuning_drop_out.save(f\"{path}/model_fine_tuning_drop_out.h5\")\n",
    "\n",
    "\n",
    "with open(\"E:/00. Kaggle/18. Clasification Inception/Models/historial_model_fine_tuning_batch_norm.pkl\", 'wb') as file:\n",
    "    pickle.dump(model_fi_tu_batch_normal.history, file)\n",
    "\n",
    "model_fine_tuning_batch_norm.save(f\"{path}/model_fine_tuning_batch_norm.h5\")\n",
    "\n",
    "with open(\"E:/00. Kaggle/18. Clasification Inception/Models/historial_model_fine_tuning_data_augm.pkl\", 'wb') as file:\n",
    "    pickle.dump(model_fi_tu_data_augm.history, file)\n",
    "\n",
    "model_fine_tuning_data_augm.save(f\"{path}/model_fine_tuning_data_augm.h5\")"
   ]
  },
  {
   "cell_type": "code",
   "execution_count": null,
   "metadata": {
    "colab": {
     "base_uri": "https://localhost:8080/"
    },
    "executionInfo": {
     "elapsed": 1101,
     "status": "ok",
     "timestamp": 1684693366817,
     "user": {
      "displayName": "Alejandro Estela",
      "userId": "06927152069312670492"
     },
     "user_tz": -120
    },
    "id": "crkVCEsQ8t7e",
    "outputId": "5da715d4-e6bd-4fbf-8c50-0415cac3df15"
   },
   "outputs": [],
   "source": [
    "# import tensorflow as tf\n",
    "# from tensorflow.keras.layers import Input, Conv2D, Conv2DTranspose, Concatenate\n",
    "# from tensorflow.keras.models import Model\n",
    "\n",
    "# # Definir la entrada\n",
    "\n",
    "# input_shape = (128, 128, 3)\n",
    "# input_img = Input(shape=input_shape)\n",
    "\n",
    "# # Encoder\n",
    "\n",
    "# x = Conv2D(64, (3, 3), activation='relu', padding='same')(input_img)\n",
    "# x = Conv2D(128, (3, 3), activation='relu', strides=(2, 2), padding='same')(x)\n",
    "# x = Conv2D(256, (3, 3), activation='relu', strides=(2, 2), padding='same')(x)\n",
    "\n",
    "# # Bottleneck con dos caminos\n",
    "\n",
    "# path1 = Conv2D(64, (3, 3), activation='relu', padding='same')(x)\n",
    "# path1 = Conv2D(32, (3, 3), activation='relu', padding='same')(path1)\n",
    "# path1 = Conv2D(1, (3, 3), activation='relu', padding='same')(path1)\n",
    "# path1 = Conv2D(256, (3, 3), activation='relu', padding='same')(path1)\n",
    "\n",
    "# path2 = Conv2D(256, (3, 3), activation='relu', padding='same')(x)\n",
    "\n",
    "# x = Concatenate()([path1, path2])\n",
    "\n",
    "# # Decoder\n",
    "\n",
    "# x = Conv2DTranspose(128, (3, 3), activation='relu', strides=(2, 2), padding='same')(x)\n",
    "# x = Conv2DTranspose(64, (3, 3), activation='relu', strides=(2, 2), padding='same')(x)\n",
    "# decoded_output = Conv2DTranspose(3, (3, 3), activation='sigmoid', padding='same')(x)\n",
    "\n",
    "# # Crear el modelo completo del autoencoder\n",
    "\n",
    "# autoencoder = Model(input_img, decoded_output)\n",
    "\n",
    "# # Compilar el modelo\n",
    "\n",
    "# autoencoder.compile(optimizer='adam', loss='mse')\n",
    "\n",
    "# # Resumen del modelo\n",
    "\n",
    "# autoencoder.summary()"
   ]
  },
  {
   "cell_type": "code",
   "execution_count": null,
   "metadata": {
    "colab": {
     "base_uri": "https://localhost:8080/"
    },
    "executionInfo": {
     "elapsed": 401,
     "status": "ok",
     "timestamp": 1684691548503,
     "user": {
      "displayName": "Alejandro Estela",
      "userId": "06927152069312670492"
     },
     "user_tz": -120
    },
    "id": "ydhCvm_cboLT",
    "outputId": "75563de4-769e-4a1a-ed3c-f0b11ef94af9"
   },
   "outputs": [],
   "source": [
    "# import tensorflow as tf\n",
    "# from tensorflow.keras.layers import Input, Conv2D, Conv2DTranspose\n",
    "# from tensorflow.keras.models import Model\n",
    "\n",
    "# # Definir la entrada\n",
    "# input_shape = (128, 128, 3)\n",
    "# input_img = Input(shape=input_shape)\n",
    "\n",
    "# # Encoder\n",
    "# x = Conv2D(64, (3, 3), activation='relu', padding='same')(input_img)\n",
    "# x = Conv2D(128, (3, 3), activation='relu', strides=(2, 2), padding='same')(x)\n",
    "# x = Conv2D(256, (3, 3), activation='relu', strides=(2, 2), padding='same')(x)\n",
    "\n",
    "# # Decoder\n",
    "# x = Conv2DTranspose(128, (3, 3), activation='relu', strides=(2, 2), padding='same')(x)\n",
    "# x = Conv2DTranspose(64, (3, 3), activation='relu', strides=(2, 2), padding='same')(x)\n",
    "# decoded_output = Conv2DTranspose(3, (3, 3), activation='sigmoid', padding='same')(x)\n",
    "\n",
    "# autoencoder = Model(input_img, decoded_output)\n",
    "\n",
    "# autoencoder.compile(optimizer='adam', loss='mse')\n",
    "\n",
    "# autoencoder.summary()"
   ]
  }
 ],
 "metadata": {
  "accelerator": "GPU",
  "colab": {
   "authorship_tag": "ABX9TyOPu9dT3dgt563hM+3WuzNQ",
   "gpuType": "T4",
   "provenance": []
  },
  "gpuClass": "standard",
  "kernelspec": {
   "display_name": "3.9.7",
   "language": "python",
   "name": "python3"
  },
  "language_info": {
   "codemirror_mode": {
    "name": "ipython",
    "version": 3
   },
   "file_extension": ".py",
   "mimetype": "text/x-python",
   "name": "python",
   "nbconvert_exporter": "python",
   "pygments_lexer": "ipython3",
   "version": "3.9.7"
  }
 },
 "nbformat": 4,
 "nbformat_minor": 0
}
